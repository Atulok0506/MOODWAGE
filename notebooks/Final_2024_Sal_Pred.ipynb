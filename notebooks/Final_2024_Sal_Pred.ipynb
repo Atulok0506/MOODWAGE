{
 "cells": [
  {
   "cell_type": "code",
   "execution_count": 1,
   "id": "63d39dad",
   "metadata": {},
   "outputs": [],
   "source": [
    "import pandas as pd"
   ]
  },
  {
   "cell_type": "code",
   "execution_count": 2,
   "id": "ec0c71af",
   "metadata": {},
   "outputs": [],
   "source": [
    "import numpy as np"
   ]
  },
  {
   "cell_type": "code",
   "execution_count": 3,
   "id": "dced589a",
   "metadata": {},
   "outputs": [],
   "source": [
    "df = pd.read_csv(\"new_pred.csv\")"
   ]
  },
  {
   "cell_type": "code",
   "execution_count": 4,
   "id": "f119330a",
   "metadata": {},
   "outputs": [
    {
     "data": {
      "text/html": [
       "<div>\n",
       "<style scoped>\n",
       "    .dataframe tbody tr th:only-of-type {\n",
       "        vertical-align: middle;\n",
       "    }\n",
       "\n",
       "    .dataframe tbody tr th {\n",
       "        vertical-align: top;\n",
       "    }\n",
       "\n",
       "    .dataframe thead th {\n",
       "        text-align: right;\n",
       "    }\n",
       "</style>\n",
       "<table border=\"1\" class=\"dataframe\">\n",
       "  <thead>\n",
       "    <tr style=\"text-align: right;\">\n",
       "      <th></th>\n",
       "      <th>Job Profile</th>\n",
       "      <th>Company</th>\n",
       "      <th>ExperienceRequired</th>\n",
       "      <th>AvgSalary</th>\n",
       "    </tr>\n",
       "  </thead>\n",
       "  <tbody>\n",
       "    <tr>\n",
       "      <th>0</th>\n",
       "      <td>Scientist</td>\n",
       "      <td>reliance-nippon-life-insurance</td>\n",
       "      <td>5.5</td>\n",
       "      <td>581665</td>\n",
       "    </tr>\n",
       "    <tr>\n",
       "      <th>1</th>\n",
       "      <td>Branch Manager</td>\n",
       "      <td>dcb-bank</td>\n",
       "      <td>8.0</td>\n",
       "      <td>604018</td>\n",
       "    </tr>\n",
       "    <tr>\n",
       "      <th>2</th>\n",
       "      <td>Team Lead Operations</td>\n",
       "      <td>itc</td>\n",
       "      <td>5.0</td>\n",
       "      <td>347114</td>\n",
       "    </tr>\n",
       "    <tr>\n",
       "      <th>3</th>\n",
       "      <td>QC Officer</td>\n",
       "      <td>lifestyle</td>\n",
       "      <td>7.5</td>\n",
       "      <td>408028</td>\n",
       "    </tr>\n",
       "    <tr>\n",
       "      <th>4</th>\n",
       "      <td>Junior Engineer</td>\n",
       "      <td>reckitt-benckiser</td>\n",
       "      <td>12.0</td>\n",
       "      <td>316633</td>\n",
       "    </tr>\n",
       "  </tbody>\n",
       "</table>\n",
       "</div>"
      ],
      "text/plain": [
       "            Job Profile                         Company  ExperienceRequired  \\\n",
       "0             Scientist  reliance-nippon-life-insurance                 5.5   \n",
       "1        Branch Manager                        dcb-bank                 8.0   \n",
       "2  Team Lead Operations                             itc                 5.0   \n",
       "3            QC Officer                       lifestyle                 7.5   \n",
       "4       Junior Engineer               reckitt-benckiser                12.0   \n",
       "\n",
       "   AvgSalary  \n",
       "0     581665  \n",
       "1     604018  \n",
       "2     347114  \n",
       "3     408028  \n",
       "4     316633  "
      ]
     },
     "execution_count": 4,
     "metadata": {},
     "output_type": "execute_result"
    }
   ],
   "source": [
    "df.head()"
   ]
  },
  {
   "cell_type": "code",
   "execution_count": 5,
   "id": "9a7c9f5f",
   "metadata": {},
   "outputs": [
    {
     "data": {
      "text/plain": [
       "0"
      ]
     },
     "execution_count": 5,
     "metadata": {},
     "output_type": "execute_result"
    }
   ],
   "source": [
    "df.duplicated().sum()"
   ]
  },
  {
   "cell_type": "code",
   "execution_count": 6,
   "id": "3359c81c",
   "metadata": {},
   "outputs": [
    {
     "data": {
      "text/plain": [
       "array(['Scientist', 'Branch Manager', 'Team Lead Operations', ...,\n",
       "       'Operation Staff', 'Technology Analyst',\n",
       "       'Senior Process Data Engineer'], dtype=object)"
      ]
     },
     "metadata": {},
     "output_type": "display_data"
    },
    {
     "name": "stdout",
     "output_type": "stream",
     "text": [
      ".....................\n"
     ]
    },
    {
     "data": {
      "text/plain": [
       "array(['reliance-nippon-life-insurance', 'dcb-bank', 'itc', 'lifestyle',\n",
       "       'reckitt-benckiser', 'siemens', 'bt-global-services',\n",
       "       'nokia-networks', 'indian-oil-corporation', 'exide-life-insurance',\n",
       "       'au-small-finance-bank', 'wns', 'arcelormittal-nippon-steel',\n",
       "       'exotic-learning', 'capgemini-engineering', 'fullerton-india',\n",
       "       'indusind-bank', 'tvs-credit', 'samvardhana-motherson-group',\n",
       "       'dalmia-bharat-cement', 'sobha', 'jubilant-foods-works', 'cisco',\n",
       "       'tractors-and-farm-equipment', 'tata-motors-finance',\n",
       "       '3i-infotech', 'cams', 'intelenet-global-services',\n",
       "       'icici-prudential-life-insurance', 'icici-bank', 'infosys',\n",
       "       'poonawalla-fincorp', 'ford-motor', 'dilip-buildcon', 'metro',\n",
       "       'bank-of-america', 'act-fibernet',\n",
       "       'wipro-consumer-care-&-lighting', 'iks-health', 'jsw-steel',\n",
       "       'asian-paints', 'synechron', 'lenskart', 'sify-technologies',\n",
       "       'ust', 'ntt-data', 'xl-dynamics',\n",
       "       'cg-power-and-industrial-solutions', 'the-himalaya-drug-company',\n",
       "       'kec-international', 'birlasoft', \"domino's-pizza\",\n",
       "       'igt-solutions', 'vedantu', 'bharat-electronics', 'eureka-forbes',\n",
       "       'state-bank-of-india', 'tata-elxsi', 'birla-sun-life-insurance',\n",
       "       'parle-products', 'reliance-industries',\n",
       "       'utkarsh-small-finance-bank', 'intas-pharmaceuticals',\n",
       "       'bureau-veritas', 'jmc-projects', 'paras-hospital',\n",
       "       'blue-dart-express', 'rivigo', 'cogent-e-services',\n",
       "       'reliance-general-insurance', 'jll', 'sbi-life-insurance-company',\n",
       "       'grasim-industries', 'home-credit-finance', 'optum',\n",
       "       'i-process-services', 'jcb', 'biocon', 'berger-paints',\n",
       "       'blue-star', 'dabur', 'vishal-mega-mart', 'force-motors',\n",
       "       'alembic-pharmaceuticals', 'microland', 'fortis-healthcare',\n",
       "       'conneqt-business-solutions', 'hcl-infosystems', 'natwest-group',\n",
       "       'dtdc-express', 'itc-hotels', 'mahindra-&-mahindra',\n",
       "       'reliance-trends', 'mankind-pharma', 'indian-railways', 'cars24',\n",
       "       'pvr-cinemas', 'exide-industries', 'tvs-supply-chain-solutions',\n",
       "       'nagarjuna-construction-company', 'policybazaar',\n",
       "       'fincare-small-finance-bank', 'shriram-city', 'axis-direct',\n",
       "       'hexaware-technologies', 'akums-drugs-&-pharmaceuticals',\n",
       "       'yash-technologies', 'tata-projects', 'lucas-tvs',\n",
       "       'dxc-technology', 'state-street-corporation',\n",
       "       'axa-business-services', 'shapoorji-pallonji-group',\n",
       "       'muthoot-fincorp', 'udaan', 'aragen-life-sciences',\n",
       "       'sigma-electric-manufacturing-corporation',\n",
       "       'l&t-technology-services', 'reliance-smsl', 'lodha-group',\n",
       "       'exl-india', 'team-lease', 'abb-group', 'ecom-express',\n",
       "       'access-healthcare', 'info-edge', 'subros', 'hsbc-group', 'nestle',\n",
       "       'cyient', 'dbs-bank', 'here-technologies', 'zensar-technologies',\n",
       "       'paytm', 'coforge', 'capgemini-technology-services-india-limited',\n",
       "       'phonepe', 'bajaj-electricals',\n",
       "       'cholamandalam-ms-general-insurance', 'blinkit', 'blackbuck',\n",
       "       'bhushan-power-&-steel', 'l&t-infotech', 'crisil',\n",
       "       'syngene-international', 'capita', 'britannia', 'future-group',\n",
       "       'iqvia', 'pnb-metlife', 'hcl-group', 'sgs', 'kotak-securities',\n",
       "       'cholamandalam-investment-&-finance', 'canara-hsbc-life-insurance',\n",
       "       'idfc-first-bank', 'tata-teleservices', 'citicorp',\n",
       "       'aditya-birla-capital', 'wells-fargo', 'hdfc-sales',\n",
       "       'tvs-sundram-fasteners', 'ernst-&-young', 'barclays',\n",
       "       'hero-motocorp', 'xoriant', 'cms-it-services',\n",
       "       'suzuki-motor-gujarat', 'fujitsu', 'jana-small-finance-bank',\n",
       "       'capgemini', 'alkem-laboratories', 'indiabulls',\n",
       "       'aarti-industries', 'kalyan-jewellers', 'havells',\n",
       "       'hindalco-industries', 'adani-wilmar', 'd-mart', 'voltas', 'croma',\n",
       "       'megha-engineering-&-infrastructures', 'ltimindtree',\n",
       "       'quest-global', 'ceat-tyres', 'motilal-oswal-financial-services',\n",
       "       'harman-connected-services', 'kyndryl',\n",
       "       'life-insurance-corporation-of-india', 'indian-army',\n",
       "       'tata-communications', 'rbl-bank', 'hero-fincorp',\n",
       "       'lava-international', 'delhi-public-school', 's&p-global',\n",
       "       'mahindra-logistics', 'bharti-airtel', 'ajanta-pharma',\n",
       "       'valuelabs', 'societe-generale', 'maruti-suzuki',\n",
       "       'max-life-insurance', 'hewlett-packard-enterprise', 'lupin',\n",
       "       'apollo-tyres', 'jindal-steel-and-power', 'eclerx',\n",
       "       'equitas-small-finance-bank', 'zs', 'oracle', 'tech-mahindra',\n",
       "       'reliance-retail', 'dr-lal-pathlabs', 'bank-of-baroda',\n",
       "       'sterlite-technologies', 'bandhan-bank', 'suzlon-group',\n",
       "       'reliance-communications', 'jk-cement', 'ultratech-cement',\n",
       "       'swiggy', 'cadila-pharmaceuticals', 'endurance-technologies',\n",
       "       'renault-nissan', 'hdfc-ergo-general-insurance',\n",
       "       'aditya-birla-group', 'glenmark-pharmaceuticals',\n",
       "       'statestreet-hcl-services', 'deutsche-bank', 'reliance-jio',\n",
       "       'manappuram-finance', 'maersk', 'biological-e',\n",
       "       'sbi-general-insurance', 'bhel', 'uflex', 'cma-cgm', 'hcltech',\n",
       "       'startek', \"mcdonald's\", 'thomson-reuters', 'sodexo', 'atos',\n",
       "       'upgrad', 'indian-navy', 'oyo-rooms', 'kpmg', 'nagarro',\n",
       "       'extramarks-education', 'iifl-finance',\n",
       "       'bajaj-allianz-general-insurance', 'cipla-pharmaceutical',\n",
       "       'parle-agro', 'thermax-limited', 'amazon', 'ba-continuum', 'srf',\n",
       "       'flipkart', 'sopra-steria', 'bt-group', 'tata-motors',\n",
       "       'ambuja-cements', 'tech-mahindra-business-services',\n",
       "       'piramal-capital-housing-finance', 'ujjivan-small-finance-bank',\n",
       "       'amazon-development-centre-india', 'hdfc-bank',\n",
       "       'shriram-transport-finance', 'abbott-healthcare', 'axis-bank',\n",
       "       'first-source', 'philips', 'hinduja-global-solutions',\n",
       "       'yamaha-motor', 'walmart', 'jbm-group', 'cognizant',\n",
       "       'bharti-axa-life-insurance', 'bajaj-allianz-life-insurance',\n",
       "       'infosys-bpm', 'aditya-birla-fashion-and-retail', 'acc',\n",
       "       'sterling-&-wilson', 'atos-syntel', 'tvs-motor', 'samsung',\n",
       "       'tata-aig', 'hdb-financial-services', 'mindtree', 'future-retail',\n",
       "       'yes-bank', 'kotak-mahindra-bank', 'bajaj-finserv',\n",
       "       'vvdn-technologies', 'raymond', 'mahindra-rural-housing-finance',\n",
       "       'macleods-pharmaceuticals', 'nobroker', 'big-bazaar',\n",
       "       'sun-pharmaceutical-industries', 'honeywell-automation', 'aecom',\n",
       "       'indiamart-intermesh', 'accenture', 'care-health-insurance',\n",
       "       'american-express', 'aakash-educational-services', 'whitehat-jr',\n",
       "       'tata-technologies', 'tata-play', 'justdial', 'indian-air-force',\n",
       "       'indus-towers', 'titan-company', 'allsec-technologies',\n",
       "       'vodafone-idea', 'gebbs-healthcare-solutions', 'ericsson',\n",
       "       'sbi-cards-&-payment-services', 'vivo', 'john-deere', 'meesho',\n",
       "       'publicis-sapient', 'laurus-labs', 'coromandel-international',\n",
       "       'delhivery', 'gati-kwe', 'metlife', 'fis', 'nokia',\n",
       "       'muthoot-finance', 'l&t-construction', 'aavas-financiers',\n",
       "       'bharat-petroleum', 'cms-infosystems', 'movate', 'xpressbees',\n",
       "       'bosch', 'kpit-technologies', 'v-mart',\n",
       "       'hindustan-coca-cola-beverages', 'gabriel-india', 'straive',\n",
       "       'whirlpool', 'kotak-mahindara-life-insurance',\n",
       "       'state-street-syntel', 'sonalika-tractors',\n",
       "       'tata-aia-life-insurance', 'wipro-infotech', 'café-coffee-day',\n",
       "       'shree-cement', 'mphasis', 'spark-minda',\n",
       "       'future-generali-india-life-insurance', 'zydus-cadila',\n",
       "       'ashok-leyland', 'citibank', 'rspl-group', 'amdocs',\n",
       "       'royal-enfield', 'mahindra-&-mahindra-financial-services',\n",
       "       'max-healthcare', 'randstad', 'simplex-infrastructures', 'cummins',\n",
       "       'yazaki', 'mahindra-holidays-&-resorts', 'l&t-finance',\n",
       "       'omega-healthcare', 'g4s', 'flex', 'tcs',\n",
       "       'amazon-transportation-services', 'bajaj-auto', 'exl-service',\n",
       "       'taurus-bpo-services', 'star-health-&-allied-insurance',\n",
       "       'afcons-infrastructure', 'bosch-global-software-technologies',\n",
       "       'marpu-foundation', 'ola-cabs', 'datamatics-global-services',\n",
       "       'radisson-hotels', 'rmsi', 'icici-securities', 'sap',\n",
       "       'landmark-group', 'oppo', 'genpact', 'schneider-electric',\n",
       "       'ninjacart', 'quess', 'intellect-design-arena',\n",
       "       'carelon-global-solutions', 'msn-laboratories',\n",
       "       'sutherland-global-services', 'kansai-nerolac-paints', 'r1-rcm',\n",
       "       'itc-infotech-india', 'ipca-laboratories', 'jindal-stainless',\n",
       "       'pfizer', 'novartis', 'uno-minda', 'piramal-group', 'dell',\n",
       "       'ekart-logistics', 'johnson-controls', 'wipro-enterprises-ltd',\n",
       "       've-commercial-vehicles', 'mrf-tyres', 'hetero-drugs',\n",
       "       'tata-steel', 'varun-beverages', 'upl',\n",
       "       'taj-hotels-resorts-and-palaces', 'pidilite-industries',\n",
       "       'cavinkare', 'persistent-systems', 'idbi-bank', 'bny-mellon',\n",
       "       'fiserv', 'godrej-&-boyce-manufacturing', 'huawei-technologies',\n",
       "       'elasticrun', 'hyundai-motor', 'myntra', 'larsen-&-toubro-limited',\n",
       "       'wockhardt', 'honda', 'torrent-pharmaceuticals', 'unacademy',\n",
       "       'ncr-corporation', 'globallogic', 'deloitte', 'unitedhealth',\n",
       "       'samsung-electronics', 'micro-labs', 'g-r-infraprojects',\n",
       "       'icici-lombard-general-insurance-company', 'cgi-group',\n",
       "       'virtusa-consulting-services', 'r.r.-donnelley', 'brakes-india',\n",
       "       'square-yards', 'patanjali-ayurved', 'hdfc-life', 'delphi-tvs',\n",
       "       'safexpress', \"dr.-reddy's\", 'abc', 'cybage',\n",
       "       'kalpataru-power-transmission', 'conduent', 'ienergizer',\n",
       "       'reliance-digital', 'aurobindo-pharma', 'shahi-exports',\n",
       "       'hindustan-aeronautics', 'jk-tyres', 'shell', 'kochartech',\n",
       "       'honda-motorcycle-&-scooter', 'viatris', 'jp-morgan-chase',\n",
       "       'renault-nissan-technology-&-business-centre-india', 'cbre',\n",
       "       'arvind-group', 'pepsico', 'power-mech-projects', 'indigo',\n",
       "       '24/7-customer', 'teleperformance',\n",
       "       'automatic-data-processing-(adp)', 'bigbasket',\n",
       "       'emcure-pharmaceuticals', 'wipro-bps', 'wipro', 'ibm',\n",
       "       'apollo-hospitals', 'bajaj-finance', 'zomato', 'tce',\n",
       "       'escorts-kubota-limited', 'phn-technology', 'ds-group',\n",
       "       'tata-capital-financial-services', 'vardhman-fabrics',\n",
       "       'narayana-health', 'lg-electronics', 'concentrix-corporation',\n",
       "       'shoppers-stop', 'hindustan-unilever', 'pwc', 'ags-health',\n",
       "       \"byju's\", 'standard-chartered-bank',\n",
       "       'gvk-emergency-management-and-research-institute',\n",
       "       'oberoi-group-of-hotels'], dtype=object)"
      ]
     },
     "metadata": {},
     "output_type": "display_data"
    },
    {
     "name": "stdout",
     "output_type": "stream",
     "text": [
      ".....................\n"
     ]
    },
    {
     "data": {
      "text/plain": [
       "array([ 5.5,  8. ,  5. ,  7.5, 12. ,  3. ,  6.5,  3.5,  4. ,  9. , 10.5,\n",
       "        4.5,  9.5,  2.5,  2. , 14. ,  8.5,  7. ,  6. , 17. , 29.5, 16.5,\n",
       "        1.5, 12.5, 14.5,  1. , 21. , 15. ,  0.5, 18.5, 18. , 10. , 11.5,\n",
       "       13.5, 11. , 31. , 13. , 20.5, 16. , 19.5, 17.5, 15.5, 22. , 23. ,\n",
       "       19. , 21.5, 25. , 23.5, 22.5, 28. , 25.5, 20. , 31.5])"
      ]
     },
     "metadata": {},
     "output_type": "display_data"
    },
    {
     "name": "stdout",
     "output_type": "stream",
     "text": [
      ".....................\n"
     ]
    },
    {
     "data": {
      "text/plain": [
       "array([581665, 604018, 347114, ..., 491565, 708817, 429423], dtype=int64)"
      ]
     },
     "metadata": {},
     "output_type": "display_data"
    },
    {
     "name": "stdout",
     "output_type": "stream",
     "text": [
      ".....................\n"
     ]
    }
   ],
   "source": [
    "for i in df.columns:\n",
    "    display(df[i].unique())\n",
    "    print(\".....................\")"
   ]
  },
  {
   "cell_type": "code",
   "execution_count": 7,
   "id": "fb29a402",
   "metadata": {},
   "outputs": [
    {
     "data": {
      "text/plain": [
       "Sales Executive                      139\n",
       "Deputy Manager                       138\n",
       "Team Lead                            125\n",
       "Software Engineer                    104\n",
       "Senior Software Engineer              94\n",
       "                                    ... \n",
       "Human Resource Business Associate      1\n",
       "LIC Advisor                            1\n",
       "Title Specialist                       1\n",
       "Mechanical Technician                  1\n",
       "Senior Process Data Engineer           1\n",
       "Name: Job Profile, Length: 1274, dtype: int64"
      ]
     },
     "metadata": {},
     "output_type": "display_data"
    },
    {
     "name": "stdout",
     "output_type": "stream",
     "text": [
      ".....................\n"
     ]
    },
    {
     "data": {
      "text/plain": [
       "reliance-nippon-life-insurance    10\n",
       "fis                               10\n",
       "gabriel-india                     10\n",
       "hindustan-coca-cola-beverages     10\n",
       "v-mart                            10\n",
       "                                  ..\n",
       "tvs-sundram-fasteners             10\n",
       "hdfc-sales                        10\n",
       "wells-fargo                       10\n",
       "aditya-birla-capital              10\n",
       "oberoi-group-of-hotels            10\n",
       "Name: Company, Length: 500, dtype: int64"
      ]
     },
     "metadata": {},
     "output_type": "display_data"
    },
    {
     "name": "stdout",
     "output_type": "stream",
     "text": [
      ".....................\n"
     ]
    },
    {
     "data": {
      "text/plain": [
       "3.0     478\n",
       "4.0     472\n",
       "3.5     406\n",
       "5.0     353\n",
       "4.5     341\n",
       "2.5     314\n",
       "5.5     284\n",
       "6.0     263\n",
       "6.5     253\n",
       "2.0     212\n",
       "7.5     185\n",
       "7.0     170\n",
       "8.0     127\n",
       "1.5     122\n",
       "8.5     115\n",
       "10.0    106\n",
       "9.5      93\n",
       "9.0      89\n",
       "10.5     76\n",
       "12.0     72\n",
       "11.0     65\n",
       "1.0      59\n",
       "11.5     47\n",
       "12.5     46\n",
       "13.0     43\n",
       "0.5      38\n",
       "13.5     32\n",
       "14.0     29\n",
       "16.0     14\n",
       "15.5     13\n",
       "15.0     11\n",
       "14.5     11\n",
       "17.5      9\n",
       "17.0      8\n",
       "16.5      5\n",
       "19.5      5\n",
       "18.0      4\n",
       "18.5      4\n",
       "21.0      3\n",
       "20.5      3\n",
       "31.0      3\n",
       "29.5      2\n",
       "22.0      2\n",
       "23.0      2\n",
       "19.0      2\n",
       "20.0      2\n",
       "21.5      1\n",
       "25.0      1\n",
       "23.5      1\n",
       "22.5      1\n",
       "28.0      1\n",
       "25.5      1\n",
       "31.5      1\n",
       "Name: ExperienceRequired, dtype: int64"
      ]
     },
     "metadata": {},
     "output_type": "display_data"
    },
    {
     "name": "stdout",
     "output_type": "stream",
     "text": [
      ".....................\n"
     ]
    },
    {
     "data": {
      "text/plain": [
       "350089     2\n",
       "714189     2\n",
       "420839     2\n",
       "342907     2\n",
       "440749     2\n",
       "          ..\n",
       "339030     1\n",
       "1544974    1\n",
       "326884     1\n",
       "454391     1\n",
       "429423     1\n",
       "Name: AvgSalary, Length: 4955, dtype: int64"
      ]
     },
     "metadata": {},
     "output_type": "display_data"
    },
    {
     "name": "stdout",
     "output_type": "stream",
     "text": [
      ".....................\n"
     ]
    }
   ],
   "source": [
    "for i in df.columns:\n",
    "    display(df[i].value_counts())\n",
    "    print(\".....................\")"
   ]
  },
  {
   "cell_type": "code",
   "execution_count": 8,
   "id": "ccefe86e",
   "metadata": {},
   "outputs": [
    {
     "data": {
      "text/html": [
       "<div>\n",
       "<style scoped>\n",
       "    .dataframe tbody tr th:only-of-type {\n",
       "        vertical-align: middle;\n",
       "    }\n",
       "\n",
       "    .dataframe tbody tr th {\n",
       "        vertical-align: top;\n",
       "    }\n",
       "\n",
       "    .dataframe thead th {\n",
       "        text-align: right;\n",
       "    }\n",
       "</style>\n",
       "<table border=\"1\" class=\"dataframe\">\n",
       "  <thead>\n",
       "    <tr style=\"text-align: right;\">\n",
       "      <th></th>\n",
       "      <th>ExperienceRequired</th>\n",
       "      <th>AvgSalary</th>\n",
       "    </tr>\n",
       "  </thead>\n",
       "  <tbody>\n",
       "    <tr>\n",
       "      <th>count</th>\n",
       "      <td>5000.000000</td>\n",
       "      <td>5.000000e+03</td>\n",
       "    </tr>\n",
       "    <tr>\n",
       "      <th>mean</th>\n",
       "      <td>5.698700</td>\n",
       "      <td>6.837694e+05</td>\n",
       "    </tr>\n",
       "    <tr>\n",
       "      <th>std</th>\n",
       "      <td>3.466623</td>\n",
       "      <td>6.313453e+05</td>\n",
       "    </tr>\n",
       "    <tr>\n",
       "      <th>min</th>\n",
       "      <td>0.500000</td>\n",
       "      <td>1.162270e+05</td>\n",
       "    </tr>\n",
       "    <tr>\n",
       "      <th>25%</th>\n",
       "      <td>3.500000</td>\n",
       "      <td>3.034535e+05</td>\n",
       "    </tr>\n",
       "    <tr>\n",
       "      <th>50%</th>\n",
       "      <td>5.000000</td>\n",
       "      <td>4.520035e+05</td>\n",
       "    </tr>\n",
       "    <tr>\n",
       "      <th>75%</th>\n",
       "      <td>7.000000</td>\n",
       "      <td>8.032802e+05</td>\n",
       "    </tr>\n",
       "    <tr>\n",
       "      <th>max</th>\n",
       "      <td>31.500000</td>\n",
       "      <td>7.591845e+06</td>\n",
       "    </tr>\n",
       "  </tbody>\n",
       "</table>\n",
       "</div>"
      ],
      "text/plain": [
       "       ExperienceRequired     AvgSalary\n",
       "count         5000.000000  5.000000e+03\n",
       "mean             5.698700  6.837694e+05\n",
       "std              3.466623  6.313453e+05\n",
       "min              0.500000  1.162270e+05\n",
       "25%              3.500000  3.034535e+05\n",
       "50%              5.000000  4.520035e+05\n",
       "75%              7.000000  8.032802e+05\n",
       "max             31.500000  7.591845e+06"
      ]
     },
     "execution_count": 8,
     "metadata": {},
     "output_type": "execute_result"
    }
   ],
   "source": [
    "df.describe()"
   ]
  },
  {
   "cell_type": "code",
   "execution_count": 9,
   "id": "6f7f074d",
   "metadata": {},
   "outputs": [
    {
     "data": {
      "text/plain": [
       "<Axes: >"
      ]
     },
     "execution_count": 9,
     "metadata": {},
     "output_type": "execute_result"
    },
    {
     "data": {
      "image/png": "[encoded data removed]",
      "text/plain": [
       "<Figure size 640x480 with 1 Axes>"
      ]
     },
     "metadata": {},
     "output_type": "display_data"
    }
   ],
   "source": [
    "df.boxplot()"
   ]
  },
  {
   "cell_type": "code",
   "execution_count": 10,
   "id": "d30834ab",
   "metadata": {},
   "outputs": [
    {
     "data": {
      "text/plain": [
       "(5000, 4)"
      ]
     },
     "execution_count": 10,
     "metadata": {},
     "output_type": "execute_result"
    }
   ],
   "source": [
    "df.shape"
   ]
  },
  {
   "cell_type": "code",
   "execution_count": 11,
   "id": "8f42a84e",
   "metadata": {},
   "outputs": [],
   "source": [
    "from scipy import stats\n",
    "\n",
    "Q1_exp = df['ExperienceRequired'].quantile(0.25)\n",
    "Q3_exp = df['ExperienceRequired'].quantile(0.75)\n",
    "IQR_exp = stats.iqr(df['ExperienceRequired'])\n",
    "\n",
    "Q1_sal = df['AvgSalary'].quantile(0.25)\n",
    "Q3_sal = df['AvgSalary'].quantile(0.75)\n",
    "IQR_sal = stats.iqr(df['AvgSalary'])\n",
    "\n",
    "# Define the range within which data points are considered normal\n",
    "lower_exp = Q1_exp - 1.5 * IQR_exp\n",
    "upper_exp = Q3_exp + 1.5 * IQR_exp\n",
    "\n",
    "lower_sal = Q1_sal - 1.5 * IQR_sal\n",
    "upper_sal = Q3_sal + 1.5 * IQR_sal\n",
    "\n",
    "# Remove outliers\n",
    "df_cleaned = df[(df['ExperienceRequired'] >= lower_exp) & (df['ExperienceRequired'] <= upper_exp) &\n",
    "                (df['AvgSalary'] >= lower_sal) & (df['AvgSalary'] <= upper_sal)]"
   ]
  },
  {
   "cell_type": "code",
   "execution_count": 12,
   "id": "551cbb8a",
   "metadata": {},
   "outputs": [
    {
     "name": "stdout",
     "output_type": "stream",
     "text": [
      "-1.75 12.25\n",
      "-446286.625 1553020.375\n"
     ]
    }
   ],
   "source": [
    "print(lower_exp,upper_exp)\n",
    "print(lower_sal,upper_sal)"
   ]
  },
  {
   "cell_type": "code",
   "execution_count": 13,
   "id": "f1fcf514",
   "metadata": {},
   "outputs": [
    {
     "data": {
      "text/plain": [
       "<Axes: >"
      ]
     },
     "execution_count": 13,
     "metadata": {},
     "output_type": "execute_result"
    }
   ],
   "source": [
    "df_cleaned.boxplot()"
   ]
  },
  {
   "cell_type": "code",
   "execution_count": 14,
   "id": "df6e8698",
   "metadata": {},
   "outputs": [
    {
     "data": {
      "text/plain": [
       "Job Profile           0\n",
       "Company               0\n",
       "ExperienceRequired    0\n",
       "AvgSalary             0\n",
       "dtype: int64"
      ]
     },
     "execution_count": 14,
     "metadata": {},
     "output_type": "execute_result"
    }
   ],
   "source": [
    "df.isnull().sum()"
   ]
  },
  {
   "cell_type": "code",
   "execution_count": 15,
   "id": "03b9be2e",
   "metadata": {},
   "outputs": [],
   "source": [
    "df = df_cleaned"
   ]
  },
  {
   "cell_type": "code",
   "execution_count": 16,
   "id": "03d6ff53",
   "metadata": {},
   "outputs": [
    {
     "data": {
      "text/plain": [
       "Job Profile           1147\n",
       "Company                498\n",
       "ExperienceRequired      24\n",
       "AvgSalary             4342\n",
       "dtype: int64"
      ]
     },
     "execution_count": 16,
     "metadata": {},
     "output_type": "execute_result"
    }
   ],
   "source": [
    "df.nunique()"
   ]
  },
  {
   "cell_type": "markdown",
   "id": "d46c19c7",
   "metadata": {},
   "source": [
    "# target ordinal"
   ]
  },
  {
   "cell_type": "code",
   "execution_count": 17,
   "id": "16965e6a",
   "metadata": {},
   "outputs": [],
   "source": [
    "target_ordinal_company = df.groupby('Company')['AvgSalary'].mean().to_dict()"
   ]
  },
  {
   "cell_type": "code",
   "execution_count": 18,
   "id": "e6e62b7b",
   "metadata": {},
   "outputs": [],
   "source": [
    "df['Company'] = df['Company'].map(target_ordinal_company)"
   ]
  },
  {
   "cell_type": "code",
   "execution_count": 19,
   "id": "9fe00e91",
   "metadata": {},
   "outputs": [],
   "source": [
    "target_ordinal_job = df.groupby('Job Profile')['AvgSalary'].median().to_dict()"
   ]
  },
  {
   "cell_type": "code",
   "execution_count": 20,
   "id": "623a9b20",
   "metadata": {},
   "outputs": [],
   "source": [
    "df['Job Profile'] = df['Job Profile'].map(target_ordinal_job)"
   ]
  },
  {
   "cell_type": "code",
   "execution_count": 21,
   "id": "7b874681",
   "metadata": {},
   "outputs": [
    {
     "data": {
      "text/html": [
       "<div>\n",
       "<style scoped>\n",
       "    .dataframe tbody tr th:only-of-type {\n",
       "        vertical-align: middle;\n",
       "    }\n",
       "\n",
       "    .dataframe tbody tr th {\n",
       "        vertical-align: top;\n",
       "    }\n",
       "\n",
       "    .dataframe thead th {\n",
       "        text-align: right;\n",
       "    }\n",
       "</style>\n",
       "<table border=\"1\" class=\"dataframe\">\n",
       "  <thead>\n",
       "    <tr style=\"text-align: right;\">\n",
       "      <th></th>\n",
       "      <th>Job Profile</th>\n",
       "      <th>Company</th>\n",
       "      <th>ExperienceRequired</th>\n",
       "      <th>AvgSalary</th>\n",
       "    </tr>\n",
       "  </thead>\n",
       "  <tbody>\n",
       "    <tr>\n",
       "      <th>0</th>\n",
       "      <td>640159.5</td>\n",
       "      <td>522703.400000</td>\n",
       "      <td>5.5</td>\n",
       "      <td>581665</td>\n",
       "    </tr>\n",
       "    <tr>\n",
       "      <th>1</th>\n",
       "      <td>396482.0</td>\n",
       "      <td>411656.777778</td>\n",
       "      <td>8.0</td>\n",
       "      <td>604018</td>\n",
       "    </tr>\n",
       "    <tr>\n",
       "      <th>2</th>\n",
       "      <td>366696.0</td>\n",
       "      <td>363407.900000</td>\n",
       "      <td>5.0</td>\n",
       "      <td>347114</td>\n",
       "    </tr>\n",
       "    <tr>\n",
       "      <th>3</th>\n",
       "      <td>488615.0</td>\n",
       "      <td>490765.400000</td>\n",
       "      <td>7.5</td>\n",
       "      <td>408028</td>\n",
       "    </tr>\n",
       "    <tr>\n",
       "      <th>4</th>\n",
       "      <td>528026.0</td>\n",
       "      <td>489330.400000</td>\n",
       "      <td>12.0</td>\n",
       "      <td>316633</td>\n",
       "    </tr>\n",
       "  </tbody>\n",
       "</table>\n",
       "</div>"
      ],
      "text/plain": [
       "   Job Profile        Company  ExperienceRequired  AvgSalary\n",
       "0     640159.5  522703.400000                 5.5     581665\n",
       "1     396482.0  411656.777778                 8.0     604018\n",
       "2     366696.0  363407.900000                 5.0     347114\n",
       "3     488615.0  490765.400000                 7.5     408028\n",
       "4     528026.0  489330.400000                12.0     316633"
      ]
     },
     "execution_count": 21,
     "metadata": {},
     "output_type": "execute_result"
    }
   ],
   "source": [
    "df.head()"
   ]
  },
  {
   "cell_type": "code",
   "execution_count": 22,
   "id": "e5c0fbf7",
   "metadata": {},
   "outputs": [],
   "source": [
    "X = df.drop('AvgSalary', axis=1)\n",
    "y = df['AvgSalary']"
   ]
  },
  {
   "cell_type": "code",
   "execution_count": 23,
   "id": "e93f764a",
   "metadata": {},
   "outputs": [],
   "source": [
    "from sklearn.preprocessing import StandardScaler\n",
    "scaler = StandardScaler()\n",
    "scaler2 = StandardScaler()\n",
    "X_scaled = scaler.fit_transform(X)\n",
    "y_scaled = scaler2.fit_transform(y.values.reshape(-1,1))"
   ]
  },
  {
   "cell_type": "code",
   "execution_count": 24,
   "id": "7bdc86ff",
   "metadata": {},
   "outputs": [],
   "source": [
    "from sklearn.model_selection import train_test_split\n",
    "X_train, X_test, y_train, y_test = train_test_split(X_scaled, y_scaled, test_size=0.2, random_state=42)"
   ]
  },
  {
   "cell_type": "code",
   "execution_count": 25,
   "id": "19177f3e",
   "metadata": {},
   "outputs": [
    {
     "data": {
      "text/plain": [
       "((3505, 3), (877, 3), (3505, 1), (877, 1))"
      ]
     },
     "execution_count": 25,
     "metadata": {},
     "output_type": "execute_result"
    }
   ],
   "source": [
    "X_train.shape , X_test.shape , y_train.shape,y_test.shape"
   ]
  },
  {
   "cell_type": "code",
   "execution_count": 26,
   "id": "9e5d4564",
   "metadata": {},
   "outputs": [],
   "source": [
    "from tensorflow.keras.models import Sequential\n",
    "from tensorflow.keras.layers import Dense\n",
    "\n",
    "model = Sequential([\n",
    "    Dense(128, activation='linear', input_shape=(X_train.shape[1],)),\n",
    "    Dense(256, activation='relu'),\n",
    "    Dense(512, activation='relu'),\n",
    "    Dense(1024, activation='relu'),\n",
    "    Dense(64, activation='relu'),\n",
    "    Dense(1,activation='linear')\n",
    "])\n",
    "\n",
    "model.compile(loss='mean_absolute_error', optimizer='adam', metrics=['mean_absolute_error'])"
   ]
  },
  {
   "cell_type": "code",
   "execution_count": 27,
   "id": "14a6e87f",
   "metadata": {},
   "outputs": [
    {
     "name": "stdout",
     "output_type": "stream",
     "text": [
      "Epoch 1/100\n",
      "59/59 [==============================] - 2s 14ms/step - loss: 0.5312 - mean_absolute_error: 0.5312\n",
      "Epoch 2/100\n",
      "59/59 [==============================] - 1s 14ms/step - loss: 0.4947 - mean_absolute_error: 0.4947\n",
      "Epoch 3/100\n",
      "59/59 [==============================] - 1s 14ms/step - loss: 0.4990 - mean_absolute_error: 0.4990\n",
      "Epoch 4/100\n",
      "59/59 [==============================] - 1s 14ms/step - loss: 0.4867 - mean_absolute_error: 0.4867\n",
      "Epoch 5/100\n",
      "59/59 [==============================] - 1s 14ms/step - loss: 0.4919 - mean_absolute_error: 0.4919\n",
      "Epoch 6/100\n",
      "59/59 [==============================] - 1s 15ms/step - loss: 0.4921 - mean_absolute_error: 0.4921\n",
      "Epoch 7/100\n",
      "59/59 [==============================] - 1s 15ms/step - loss: 0.4879 - mean_absolute_error: 0.4879\n",
      "Epoch 8/100\n",
      "59/59 [==============================] - 1s 15ms/step - loss: 0.4872 - mean_absolute_error: 0.4872\n",
      "Epoch 9/100\n",
      "59/59 [==============================] - 1s 15ms/step - loss: 0.4870 - mean_absolute_error: 0.4870\n",
      "Epoch 10/100\n",
      "59/59 [==============================] - 1s 18ms/step - loss: 0.4888 - mean_absolute_error: 0.4888\n",
      "Epoch 11/100\n",
      "59/59 [==============================] - 1s 18ms/step - loss: 0.4823 - mean_absolute_error: 0.4823\n",
      "Epoch 12/100\n",
      "59/59 [==============================] - 1s 16ms/step - loss: 0.4844 - mean_absolute_error: 0.4844\n",
      "Epoch 13/100\n",
      "59/59 [==============================] - 1s 16ms/step - loss: 0.4793 - mean_absolute_error: 0.4793\n",
      "Epoch 14/100\n",
      "59/59 [==============================] - 1s 17ms/step - loss: 0.4789 - mean_absolute_error: 0.4789\n",
      "Epoch 15/100\n",
      "59/59 [==============================] - 1s 18ms/step - loss: 0.4810 - mean_absolute_error: 0.4810\n",
      "Epoch 16/100\n",
      "59/59 [==============================] - 1s 18ms/step - loss: 0.4811 - mean_absolute_error: 0.4811\n",
      "Epoch 17/100\n",
      "59/59 [==============================] - 1s 18ms/step - loss: 0.4807 - mean_absolute_error: 0.4807\n",
      "Epoch 18/100\n",
      "59/59 [==============================] - 1s 20ms/step - loss: 0.4767 - mean_absolute_error: 0.4767\n",
      "Epoch 19/100\n",
      "59/59 [==============================] - 1s 19ms/step - loss: 0.4769 - mean_absolute_error: 0.4769\n",
      "Epoch 20/100\n",
      "59/59 [==============================] - 1s 19ms/step - loss: 0.4803 - mean_absolute_error: 0.4803\n",
      "Epoch 21/100\n",
      "59/59 [==============================] - 1s 19ms/step - loss: 0.4734 - mean_absolute_error: 0.4734\n",
      "Epoch 22/100\n",
      "59/59 [==============================] - 1s 18ms/step - loss: 0.4761 - mean_absolute_error: 0.4761\n",
      "Epoch 23/100\n",
      "59/59 [==============================] - 1s 17ms/step - loss: 0.4733 - mean_absolute_error: 0.4733\n",
      "Epoch 24/100\n",
      "59/59 [==============================] - 1s 18ms/step - loss: 0.4761 - mean_absolute_error: 0.4761\n",
      "Epoch 25/100\n",
      "59/59 [==============================] - 1s 18ms/step - loss: 0.4780 - mean_absolute_error: 0.4780\n",
      "Epoch 26/100\n",
      "59/59 [==============================] - 1s 18ms/step - loss: 0.4742 - mean_absolute_error: 0.4742\n",
      "Epoch 27/100\n",
      "59/59 [==============================] - 1s 19ms/step - loss: 0.4703 - mean_absolute_error: 0.4703\n",
      "Epoch 28/100\n",
      "59/59 [==============================] - 1s 18ms/step - loss: 0.4742 - mean_absolute_error: 0.4742\n",
      "Epoch 29/100\n",
      "59/59 [==============================] - 1s 19ms/step - loss: 0.4742 - mean_absolute_error: 0.4742\n",
      "Epoch 30/100\n",
      "59/59 [==============================] - 1s 19ms/step - loss: 0.4782 - mean_absolute_error: 0.4782\n",
      "Epoch 31/100\n",
      "59/59 [==============================] - 1s 19ms/step - loss: 0.4747 - mean_absolute_error: 0.4747\n",
      "Epoch 32/100\n",
      "59/59 [==============================] - 1s 19ms/step - loss: 0.4745 - mean_absolute_error: 0.4745\n",
      "Epoch 33/100\n",
      "59/59 [==============================] - 1s 21ms/step - loss: 0.4714 - mean_absolute_error: 0.4714\n",
      "Epoch 34/100\n",
      "59/59 [==============================] - 1s 21ms/step - loss: 0.4702 - mean_absolute_error: 0.4702\n",
      "Epoch 35/100\n",
      "59/59 [==============================] - 1s 20ms/step - loss: 0.4720 - mean_absolute_error: 0.4720\n",
      "Epoch 36/100\n",
      "59/59 [==============================] - 1s 20ms/step - loss: 0.4792 - mean_absolute_error: 0.4792\n",
      "Epoch 37/100\n",
      "59/59 [==============================] - 1s 23ms/step - loss: 0.4692 - mean_absolute_error: 0.4692\n",
      "Epoch 38/100\n",
      "59/59 [==============================] - 1s 21ms/step - loss: 0.4708 - mean_absolute_error: 0.4708\n",
      "Epoch 39/100\n",
      "59/59 [==============================] - 1s 20ms/step - loss: 0.4682 - mean_absolute_error: 0.4682\n",
      "Epoch 40/100\n",
      "59/59 [==============================] - 1s 20ms/step - loss: 0.4712 - mean_absolute_error: 0.4712\n",
      "Epoch 41/100\n",
      "59/59 [==============================] - 1s 20ms/step - loss: 0.4723 - mean_absolute_error: 0.4723\n",
      "Epoch 42/100\n",
      "59/59 [==============================] - 1s 21ms/step - loss: 0.4690 - mean_absolute_error: 0.4690\n",
      "Epoch 43/100\n",
      "59/59 [==============================] - 1s 23ms/step - loss: 0.4674 - mean_absolute_error: 0.4674\n",
      "Epoch 44/100\n",
      "59/59 [==============================] - 1s 22ms/step - loss: 0.4752 - mean_absolute_error: 0.4752\n",
      "Epoch 45/100\n",
      "59/59 [==============================] - 1s 21ms/step - loss: 0.4687 - mean_absolute_error: 0.4687\n",
      "Epoch 46/100\n",
      "59/59 [==============================] - 1s 22ms/step - loss: 0.4663 - mean_absolute_error: 0.4663\n",
      "Epoch 47/100\n",
      "59/59 [==============================] - 1s 21ms/step - loss: 0.4659 - mean_absolute_error: 0.4659\n",
      "Epoch 48/100\n",
      "59/59 [==============================] - 1s 20ms/step - loss: 0.4715 - mean_absolute_error: 0.4715\n",
      "Epoch 49/100\n",
      "59/59 [==============================] - 1s 22ms/step - loss: 0.4663 - mean_absolute_error: 0.4663\n",
      "Epoch 50/100\n",
      "59/59 [==============================] - 1s 20ms/step - loss: 0.4676 - mean_absolute_error: 0.4676\n",
      "Epoch 51/100\n",
      "59/59 [==============================] - 1s 21ms/step - loss: 0.4676 - mean_absolute_error: 0.4676\n",
      "Epoch 52/100\n",
      "59/59 [==============================] - 1s 21ms/step - loss: 0.4689 - mean_absolute_error: 0.4689\n",
      "Epoch 53/100\n",
      "59/59 [==============================] - 1s 21ms/step - loss: 0.4676 - mean_absolute_error: 0.4676\n",
      "Epoch 54/100\n",
      "59/59 [==============================] - 1s 21ms/step - loss: 0.4659 - mean_absolute_error: 0.4659\n",
      "Epoch 55/100\n",
      "59/59 [==============================] - 1s 24ms/step - loss: 0.4643 - mean_absolute_error: 0.4643\n",
      "Epoch 56/100\n",
      "59/59 [==============================] - 1s 23ms/step - loss: 0.4647 - mean_absolute_error: 0.4647\n",
      "Epoch 57/100\n",
      "59/59 [==============================] - 1s 23ms/step - loss: 0.4661 - mean_absolute_error: 0.4661\n",
      "Epoch 58/100\n",
      "59/59 [==============================] - 1s 24ms/step - loss: 0.4627 - mean_absolute_error: 0.4627\n",
      "Epoch 59/100\n",
      "59/59 [==============================] - 1s 23ms/step - loss: 0.4622 - mean_absolute_error: 0.4622\n",
      "Epoch 60/100\n",
      "59/59 [==============================] - 1s 24ms/step - loss: 0.4656 - mean_absolute_error: 0.4656\n",
      "Epoch 61/100\n",
      "59/59 [==============================] - 1s 23ms/step - loss: 0.4648 - mean_absolute_error: 0.4648\n",
      "Epoch 62/100\n",
      "59/59 [==============================] - 1s 24ms/step - loss: 0.4621 - mean_absolute_error: 0.4621\n",
      "Epoch 63/100\n",
      "59/59 [==============================] - 1s 25ms/step - loss: 0.4689 - mean_absolute_error: 0.4689\n",
      "Epoch 64/100\n",
      "59/59 [==============================] - 1s 24ms/step - loss: 0.4654 - mean_absolute_error: 0.4654\n",
      "Epoch 65/100\n",
      "59/59 [==============================] - 1s 22ms/step - loss: 0.4615 - mean_absolute_error: 0.4615\n",
      "Epoch 66/100\n",
      "59/59 [==============================] - 1s 22ms/step - loss: 0.4615 - mean_absolute_error: 0.4615\n",
      "Epoch 67/100\n",
      "59/59 [==============================] - 1s 23ms/step - loss: 0.4650 - mean_absolute_error: 0.4650\n",
      "Epoch 68/100\n",
      "59/59 [==============================] - 1s 22ms/step - loss: 0.4627 - mean_absolute_error: 0.4627\n",
      "Epoch 69/100\n",
      "59/59 [==============================] - 1s 23ms/step - loss: 0.4611 - mean_absolute_error: 0.4611\n",
      "Epoch 70/100\n",
      "59/59 [==============================] - 1s 22ms/step - loss: 0.4614 - mean_absolute_error: 0.4614\n",
      "Epoch 71/100\n",
      "59/59 [==============================] - 1s 22ms/step - loss: 0.4569 - mean_absolute_error: 0.4569\n",
      "Epoch 72/100\n",
      "59/59 [==============================] - 1s 23ms/step - loss: 0.4605 - mean_absolute_error: 0.4605\n",
      "Epoch 73/100\n",
      "59/59 [==============================] - 1s 23ms/step - loss: 0.4612 - mean_absolute_error: 0.4612\n",
      "Epoch 74/100\n"
     ]
    },
    {
     "name": "stdout",
     "output_type": "stream",
     "text": [
      "59/59 [==============================] - 1s 22ms/step - loss: 0.4625 - mean_absolute_error: 0.4625\n",
      "Epoch 75/100\n",
      "59/59 [==============================] - 1s 23ms/step - loss: 0.4586 - mean_absolute_error: 0.4586\n",
      "Epoch 76/100\n",
      "59/59 [==============================] - 1s 22ms/step - loss: 0.4610 - mean_absolute_error: 0.4610\n",
      "Epoch 77/100\n",
      "59/59 [==============================] - 1s 22ms/step - loss: 0.4577 - mean_absolute_error: 0.4577\n",
      "Epoch 78/100\n",
      "59/59 [==============================] - 1s 20ms/step - loss: 0.4587 - mean_absolute_error: 0.4587\n",
      "Epoch 79/100\n",
      "59/59 [==============================] - 1s 21ms/step - loss: 0.4558 - mean_absolute_error: 0.4558\n",
      "Epoch 80/100\n",
      "59/59 [==============================] - 1s 20ms/step - loss: 0.4601 - mean_absolute_error: 0.4601\n",
      "Epoch 81/100\n",
      "59/59 [==============================] - 1s 20ms/step - loss: 0.4544 - mean_absolute_error: 0.4544\n",
      "Epoch 82/100\n",
      "59/59 [==============================] - 1s 20ms/step - loss: 0.4566 - mean_absolute_error: 0.4566\n",
      "Epoch 83/100\n",
      "59/59 [==============================] - 1s 20ms/step - loss: 0.4580 - mean_absolute_error: 0.4580\n",
      "Epoch 84/100\n",
      "59/59 [==============================] - 1s 20ms/step - loss: 0.4558 - mean_absolute_error: 0.4558\n",
      "Epoch 85/100\n",
      "59/59 [==============================] - 1s 19ms/step - loss: 0.4551 - mean_absolute_error: 0.4551\n",
      "Epoch 86/100\n",
      "59/59 [==============================] - 1s 19ms/step - loss: 0.4565 - mean_absolute_error: 0.4565\n",
      "Epoch 87/100\n",
      "59/59 [==============================] - 1s 19ms/step - loss: 0.4569 - mean_absolute_error: 0.4569\n",
      "Epoch 88/100\n",
      "59/59 [==============================] - 1s 19ms/step - loss: 0.4553 - mean_absolute_error: 0.4553\n",
      "Epoch 89/100\n",
      "59/59 [==============================] - 1s 22ms/step - loss: 0.4558 - mean_absolute_error: 0.4558\n",
      "Epoch 90/100\n",
      "59/59 [==============================] - 1s 19ms/step - loss: 0.4522 - mean_absolute_error: 0.4522\n",
      "Epoch 91/100\n",
      "59/59 [==============================] - 1s 19ms/step - loss: 0.4555 - mean_absolute_error: 0.4555\n",
      "Epoch 92/100\n",
      "59/59 [==============================] - 1s 21ms/step - loss: 0.4526 - mean_absolute_error: 0.4526\n",
      "Epoch 93/100\n",
      "59/59 [==============================] - 1s 24ms/step - loss: 0.4506 - mean_absolute_error: 0.4506\n",
      "Epoch 94/100\n",
      "59/59 [==============================] - 1s 23ms/step - loss: 0.4546 - mean_absolute_error: 0.4546\n",
      "Epoch 95/100\n",
      "59/59 [==============================] - 1s 20ms/step - loss: 0.4504 - mean_absolute_error: 0.4504\n",
      "Epoch 96/100\n",
      "59/59 [==============================] - 1s 21ms/step - loss: 0.4459 - mean_absolute_error: 0.4459\n",
      "Epoch 97/100\n",
      "59/59 [==============================] - 1s 20ms/step - loss: 0.4509 - mean_absolute_error: 0.4509\n",
      "Epoch 98/100\n",
      "59/59 [==============================] - 1s 19ms/step - loss: 0.4538 - mean_absolute_error: 0.4538\n",
      "Epoch 99/100\n",
      "59/59 [==============================] - 1s 19ms/step - loss: 0.4480 - mean_absolute_error: 0.4480\n",
      "Epoch 100/100\n",
      "59/59 [==============================] - 1s 19ms/step - loss: 0.4546 - mean_absolute_error: 0.4546\n"
     ]
    },
    {
     "data": {
      "text/plain": [
       "<keras.src.callbacks.History at 0x1e087c8e190>"
      ]
     },
     "execution_count": 27,
     "metadata": {},
     "output_type": "execute_result"
    }
   ],
   "source": [
    "model.fit(X_train, y_train, epochs=100, batch_size=60, verbose=1)"
   ]
  },
  {
   "cell_type": "code",
   "execution_count": 29,
   "id": "17a3d812",
   "metadata": {},
   "outputs": [
    {
     "name": "stdout",
     "output_type": "stream",
     "text": [
      "28/28 [==============================] - 0s 4ms/step - loss: 0.4901 - mean_absolute_error: 0.4901\n"
     ]
    }
   ],
   "source": [
    "loss = model.evaluate(X_test, y_test)"
   ]
  },
  {
   "cell_type": "code",
   "execution_count": 31,
   "id": "740b51cc",
   "metadata": {},
   "outputs": [
    {
     "data": {
      "text/plain": [
       "581665.0"
      ]
     },
     "execution_count": 31,
     "metadata": {},
     "output_type": "execute_result"
    }
   ],
   "source": [
    "df.iloc[0].tolist()[-1]"
   ]
  },
  {
   "cell_type": "code",
   "execution_count": 30,
   "id": "c0291536",
   "metadata": {},
   "outputs": [
    {
     "data": {
      "text/plain": [
       "[640159.5, 522703.4, 5.5]"
      ]
     },
     "execution_count": 30,
     "metadata": {},
     "output_type": "execute_result"
    }
   ],
   "source": [
    "df.iloc[0].tolist()[:-1]"
   ]
  },
  {
   "cell_type": "code",
   "execution_count": 32,
   "id": "4462001b",
   "metadata": {},
   "outputs": [
    {
     "name": "stderr",
     "output_type": "stream",
     "text": [
      "C:\\anaconda\\Lib\\site-packages\\sklearn\\base.py:439: UserWarning: X does not have valid feature names, but StandardScaler was fitted with feature names\n",
      "  warnings.warn(\n"
     ]
    },
    {
     "name": "stdout",
     "output_type": "stream",
     "text": [
      "1/1 [==============================] - 0s 203ms/step\n"
     ]
    },
    {
     "data": {
      "text/plain": [
       "array([[621609.6]], dtype=float32)"
      ]
     },
     "execution_count": 32,
     "metadata": {},
     "output_type": "execute_result"
    }
   ],
   "source": [
    "scaler2.inverse_transform(model.predict(scaler.transform([df.iloc[0].tolist()[:-1]]))[0][0].reshape(-1,1))"
   ]
  },
  {
   "cell_type": "code",
   "execution_count": 33,
   "id": "d538fd9b",
   "metadata": {},
   "outputs": [
    {
     "name": "stdout",
     "output_type": "stream",
     "text": [
      "1/1 [==============================] - 0s 22ms/step\n"
     ]
    },
    {
     "name": "stderr",
     "output_type": "stream",
     "text": [
      "C:\\anaconda\\Lib\\site-packages\\sklearn\\base.py:439: UserWarning: X does not have valid feature names, but StandardScaler was fitted with feature names\n",
      "  warnings.warn(\n"
     ]
    },
    {
     "data": {
      "text/plain": [
       "array([[0.31135416]], dtype=float32)"
      ]
     },
     "execution_count": 33,
     "metadata": {},
     "output_type": "execute_result"
    }
   ],
   "source": [
    "model.predict(scaler.transform([df.iloc[0].tolist()[:-1]]))"
   ]
  },
  {
   "cell_type": "markdown",
   "id": "15430dc7",
   "metadata": {},
   "source": [
    "# Model Training"
   ]
  },
  {
   "cell_type": "code",
   "execution_count": 34,
   "id": "5f3e7d89",
   "metadata": {},
   "outputs": [],
   "source": [
    "import xgboost as xgb\n",
    "\n",
    "# Create the XGBoost regression model\n",
    "xgb_model = xgb.XGBRegressor()\n"
   ]
  },
  {
   "cell_type": "code",
   "execution_count": 35,
   "id": "2efe225b",
   "metadata": {},
   "outputs": [],
   "source": [
    "xgb_model.fit(X_train, y_train)\n",
    "\n",
    "# Predict on the test data\n",
    "y_pred = xgb_model.predict(X_test)"
   ]
  },
  {
   "cell_type": "code",
   "execution_count": 36,
   "id": "dec2357f",
   "metadata": {},
   "outputs": [
    {
     "name": "stdout",
     "output_type": "stream",
     "text": [
      "Mean Squared Error: 0.6619954884425967\n",
      "R-squared: 0.3274619961061691\n"
     ]
    }
   ],
   "source": [
    "from sklearn.metrics import mean_squared_error, r2_score\n",
    "\n",
    "# Evaluate the model\n",
    "mse = mean_squared_error(y_test, y_pred)\n",
    "r2 = r2_score(y_test, y_pred)\n",
    "\n",
    "print(\"Mean Squared Error:\", mse)\n",
    "print(\"R-squared:\", r2)"
   ]
  },
  {
   "cell_type": "code",
   "execution_count": 37,
   "id": "6baf2e53",
   "metadata": {},
   "outputs": [
    {
     "name": "stdout",
     "output_type": "stream",
     "text": [
      "Mean Squared Error (Linear Regression): 0.5297824019986338\n",
      "R-squared (Linear Regression): 0.461780623344632\n"
     ]
    }
   ],
   "source": [
    "from sklearn.linear_model import LinearRegression\n",
    "from sklearn.metrics import mean_squared_error, r2_score\n",
    "\n",
    "# Create the linear regression model\n",
    "linear_model = LinearRegression()\n",
    "\n",
    "# Train the model on the training data\n",
    "linear_model.fit(X_train, y_train)\n",
    "\n",
    "# Predict on the test data\n",
    "y_pred_linear = linear_model.predict(X_test)\n",
    "\n",
    "# Evaluate the model\n",
    "mse_linear = mean_squared_error(y_test, y_pred_linear)\n",
    "r2_linear = r2_score(y_test, y_pred_linear)\n",
    "\n",
    "print(\"Mean Squared Error (Linear Regression):\", mse_linear)\n",
    "print(\"R-squared (Linear Regression):\", r2_linear)\n"
   ]
  },
  {
   "cell_type": "code",
   "execution_count": 38,
   "id": "344f973a",
   "metadata": {},
   "outputs": [
    {
     "name": "stderr",
     "output_type": "stream",
     "text": [
      "C:\\Users\\Atul kishore\\AppData\\Local\\Temp\\ipykernel_3192\\1577295802.py:8: DataConversionWarning: A column-vector y was passed when a 1d array was expected. Please change the shape of y to (n_samples,), for example using ravel().\n",
      "  rf_model.fit(X_train, y_train)\n"
     ]
    },
    {
     "name": "stdout",
     "output_type": "stream",
     "text": [
      "Mean Squared Error (Random Forest): 0.5970143594951524\n",
      "R-squared (Random Forest): 0.3934779728251273\n"
     ]
    }
   ],
   "source": [
    "from sklearn.ensemble import RandomForestRegressor\n",
    "from sklearn.metrics import mean_squared_error, r2_score\n",
    "\n",
    "# Create the Random Forest regression model\n",
    "rf_model = RandomForestRegressor(random_state=42)\n",
    "\n",
    "# Train the model on the training data\n",
    "rf_model.fit(X_train, y_train)\n",
    "\n",
    "# Predict on the test data\n",
    "y_pred_rf = rf_model.predict(X_test)\n",
    "\n",
    "# Evaluate the model\n",
    "mse_rf = mean_squared_error(y_test, y_pred_rf)\n",
    "r2_rf = r2_score(y_test, y_pred_rf)\n",
    "\n",
    "print(\"Mean Squared Error (Random Forest):\", mse_rf)\n",
    "print(\"R-squared (Random Forest):\", r2_rf)\n"
   ]
  },
  {
   "cell_type": "code",
   "execution_count": 39,
   "id": "c49676a6",
   "metadata": {},
   "outputs": [
    {
     "name": "stderr",
     "output_type": "stream",
     "text": [
      "C:\\anaconda\\Lib\\site-packages\\sklearn\\model_selection\\_search.py:909: DataConversionWarning: A column-vector y was passed when a 1d array was expected. Please change the shape of y to (n_samples,), for example using ravel().\n",
      "  self.best_estimator_.fit(X, y, **fit_params)\n"
     ]
    },
    {
     "name": "stdout",
     "output_type": "stream",
     "text": [
      "Best Hyperparameters: {'max_depth': 10, 'min_samples_leaf': 4, 'min_samples_split': 10, 'n_estimators': 200}\n",
      "Mean Squared Error (Random Forest - Tuned): 0.5542054522456097\n",
      "R-squared (Random Forest - Tuned): 0.4369686272678277\n"
     ]
    }
   ],
   "source": [
    "from sklearn.model_selection import GridSearchCV\n",
    "\n",
    "# Define the hyperparameter grid\n",
    "param_grid = {\n",
    "    'n_estimators': [50, 100, 200],\n",
    "    'max_depth': [None, 10, 20],\n",
    "    'min_samples_split': [2, 5, 10],\n",
    "    'min_samples_leaf': [1, 2, 4]\n",
    "}\n",
    "\n",
    "# Create the Random Forest regression model\n",
    "rf_model = RandomForestRegressor(random_state=42)\n",
    "\n",
    "# Create GridSearchCV object\n",
    "grid_search = GridSearchCV(rf_model, param_grid, cv=5, scoring='neg_mean_squared_error', n_jobs=-1)\n",
    "\n",
    "# Fit the model to the training data\n",
    "grid_search.fit(X_train, y_train)\n",
    "\n",
    "# Get the best hyperparameters\n",
    "best_params = grid_search.best_params_\n",
    "print(\"Best Hyperparameters:\", best_params)\n",
    "\n",
    "# Predict on the test data using the best model\n",
    "y_pred_rf_tuned = grid_search.predict(X_test)\n",
    "\n",
    "# Evaluate the tuned model\n",
    "mse_rf_tuned = mean_squared_error(y_test, y_pred_rf_tuned)\n",
    "r2_rf_tuned = r2_score(y_test, y_pred_rf_tuned)\n",
    "\n",
    "print(\"Mean Squared Error (Random Forest - Tuned):\", mse_rf_tuned)\n",
    "print(\"R-squared (Random Forest - Tuned):\", r2_rf_tuned)\n"
   ]
  },
  {
   "cell_type": "code",
   "execution_count": 40,
   "id": "a88f1921",
   "metadata": {},
   "outputs": [
    {
     "name": "stderr",
     "output_type": "stream",
     "text": [
      "C:\\anaconda\\Lib\\site-packages\\sklearn\\utils\\validation.py:1143: DataConversionWarning: A column-vector y was passed when a 1d array was expected. Please change the shape of y to (n_samples, ), for example using ravel().\n",
      "  y = column_or_1d(y, warn=True)\n"
     ]
    },
    {
     "name": "stdout",
     "output_type": "stream",
     "text": [
      "Mean Squared Error (SVM): 0.5625857330392467\n",
      "R-squared (SVM): 0.42845488749857064\n"
     ]
    }
   ],
   "source": [
    "from sklearn.svm import SVR\n",
    "from sklearn.metrics import mean_squared_error, r2_score\n",
    "\n",
    "# Create the SVM regression model\n",
    "svm_model = SVR(kernel='linear')  # Radial Basis Function (RBF) kernel is commonly used for SVM regression\n",
    "\n",
    "# Train the model on the training data\n",
    "svm_model.fit(X_train, y_train)\n",
    "\n",
    "# Predict on the test data\n",
    "y_pred_svm = svm_model.predict(X_test)\n",
    "\n",
    "# Evaluate the model\n",
    "mse_svm = mean_squared_error(y_test, y_pred_svm)\n",
    "r2_svm = r2_score(y_test, y_pred_svm)\n",
    "\n",
    "print(\"Mean Squared Error (SVM):\", mse_svm)\n",
    "print(\"R-squared (SVM):\", r2_svm)\n"
   ]
  },
  {
   "cell_type": "code",
   "execution_count": 41,
   "id": "6d6c0545",
   "metadata": {},
   "outputs": [
    {
     "name": "stderr",
     "output_type": "stream",
     "text": [
      "C:\\anaconda\\Lib\\site-packages\\sklearn\\utils\\validation.py:1143: DataConversionWarning: A column-vector y was passed when a 1d array was expected. Please change the shape of y to (n_samples, ), for example using ravel().\n",
      "  y = column_or_1d(y, warn=True)\n"
     ]
    },
    {
     "name": "stdout",
     "output_type": "stream",
     "text": [
      "Best Hyperparameters: {'C': 10, 'epsilon': 0.5, 'kernel': 'linear'}\n",
      "Mean Squared Error (SVM - Tuned): 0.5342248649686426\n",
      "R-squared (SVM - Tuned): 0.45726741255938796\n"
     ]
    }
   ],
   "source": [
    "from sklearn.model_selection import GridSearchCV\n",
    "\n",
    "# Define the parameter grid\n",
    "param_grid = {'C': [0.1, 1, 10, 100],\n",
    "              'epsilon': [0.1, 0.2, 0.5, 1],\n",
    "              'kernel': ['linear', 'rbf', 'poly']}\n",
    "\n",
    "# Create the SVM regression model\n",
    "svm_model = SVR()\n",
    "\n",
    "# Create GridSearchCV object\n",
    "grid_search = GridSearchCV(svm_model, param_grid, cv=5, scoring='neg_mean_squared_error', n_jobs=-1)\n",
    "\n",
    "# Fit the grid search to the data\n",
    "grid_search.fit(X_train, y_train)\n",
    "\n",
    "# Get the best parameters\n",
    "best_params = grid_search.best_params_\n",
    "\n",
    "# Print the best parameters\n",
    "print(\"Best Hyperparameters:\", best_params)\n",
    "\n",
    "# Use the best model for prediction\n",
    "best_svm_model = grid_search.best_estimator_\n",
    "y_pred_svm_tuned = best_svm_model.predict(X_test)\n",
    "\n",
    "# Evaluate the tuned model\n",
    "mse_svm_tuned = mean_squared_error(y_test, y_pred_svm_tuned)\n",
    "r2_svm_tuned = r2_score(y_test, y_pred_svm_tuned)\n",
    "\n",
    "print(\"Mean Squared Error (SVM - Tuned):\", mse_svm_tuned)\n",
    "print(\"R-squared (SVM - Tuned):\", r2_svm_tuned)\n"
   ]
  },
  {
   "cell_type": "code",
   "execution_count": 42,
   "id": "845ad84c",
   "metadata": {},
   "outputs": [
    {
     "name": "stderr",
     "output_type": "stream",
     "text": [
      "C:\\anaconda\\Lib\\site-packages\\sklearn\\ensemble\\_gb.py:437: DataConversionWarning: A column-vector y was passed when a 1d array was expected. Please change the shape of y to (n_samples, ), for example using ravel().\n",
      "  y = column_or_1d(y, warn=True)\n"
     ]
    },
    {
     "name": "stdout",
     "output_type": "stream",
     "text": [
      "Mean Squared Error (Gradient Boosting): 0.5487440782683756\n",
      "R-squared (Gradient Boosting): 0.44251697558332415\n"
     ]
    }
   ],
   "source": [
    "from sklearn.ensemble import GradientBoostingRegressor\n",
    "from sklearn.metrics import mean_squared_error, r2_score\n",
    "\n",
    "# Create the Gradient Boosting regression model\n",
    "gb_model = GradientBoostingRegressor()\n",
    "\n",
    "# Train the model on the training data\n",
    "gb_model.fit(X_train, y_train)\n",
    "\n",
    "# Predict on the test data\n",
    "y_pred_gb = gb_model.predict(X_test)\n",
    "\n",
    "# Evaluate the model\n",
    "mse_gb = mean_squared_error(y_test, y_pred_gb)\n",
    "r2_gb = r2_score(y_test, y_pred_gb)\n",
    "\n",
    "print(\"Mean Squared Error (Gradient Boosting):\", mse_gb)\n",
    "print(\"R-squared (Gradient Boosting):\", r2_gb)\n"
   ]
  },
  {
   "cell_type": "code",
   "execution_count": 43,
   "id": "d4a92619",
   "metadata": {},
   "outputs": [
    {
     "name": "stdout",
     "output_type": "stream",
     "text": [
      "Best Hyperparameters: {'learning_rate': 0.1, 'max_depth': 3, 'min_samples_leaf': 2, 'min_samples_split': 5, 'n_estimators': 50}\n",
      "Mean Squared Error (Gradient Boosting - Tuned): 0.5467666665701432\n",
      "R-squared (Gradient Boosting - Tuned): 0.44452587827167056\n"
     ]
    }
   ],
   "source": [
    "from sklearn.ensemble import GradientBoostingRegressor\n",
    "from sklearn.metrics import mean_squared_error, r2_score\n",
    "from sklearn.model_selection import GridSearchCV\n",
    "\n",
    "# Create the Gradient Boosting regression model\n",
    "gb_model = GradientBoostingRegressor()\n",
    "\n",
    "# Define the parameter grid\n",
    "param_grid = {\n",
    "    'n_estimators': [50, 100, 150],\n",
    "    'learning_rate': [0.01, 0.1, 0.2],\n",
    "    'max_depth': [3, 4, 5],\n",
    "    'min_samples_split': [2, 5, 10],\n",
    "    'min_samples_leaf': [1, 2, 4]\n",
    "}\n",
    "\n",
    "# Ensure y_train is a 1D array\n",
    "y_train_1d = y_train.ravel()\n",
    "\n",
    "# Create GridSearchCV object\n",
    "grid_search = GridSearchCV(estimator=gb_model, param_grid=param_grid, scoring='neg_mean_squared_error', cv=5)\n",
    "\n",
    "# Fit the model to the training data\n",
    "grid_search.fit(X_train, y_train_1d)\n",
    "\n",
    "# Get the best hyperparameters\n",
    "best_params = grid_search.best_params_\n",
    "\n",
    "# Print the best hyperparameters\n",
    "print(\"Best Hyperparameters:\", best_params)\n",
    "\n",
    "# Predict on the test data using the best model\n",
    "y_pred_gb_tuned = grid_search.predict(X_test)\n",
    "\n",
    "# Evaluate the tuned model\n",
    "mse_gb_tuned = mean_squared_error(y_test, y_pred_gb_tuned)\n",
    "r2_gb_tuned = r2_score(y_test, y_pred_gb_tuned)\n",
    "\n",
    "print(\"Mean Squared Error (Gradient Boosting - Tuned):\", mse_gb_tuned)\n",
    "print(\"R-squared (Gradient Boosting - Tuned):\", r2_gb_tuned)\n"
   ]
  },
  {
   "cell_type": "markdown",
   "id": "e327f5e6",
   "metadata": {},
   "source": [
    "# Evaluation on test data"
   ]
  },
  {
   "cell_type": "code",
   "execution_count": 44,
   "id": "91acb1c1",
   "metadata": {},
   "outputs": [
    {
     "name": "stdout",
     "output_type": "stream",
     "text": [
      "Mean Squared Error (Random Forest): 0.5970143594951524\n",
      "R-squared (Random Forest): 0.3934779728251273\n"
     ]
    }
   ],
   "source": [
    "from sklearn.metrics import mean_squared_error, r2_score\n",
    "\n",
    "# Assuming y_test contains the actual target values for the test set\n",
    "# and y_pred_rf contains the predicted values by the Random Forest model\n",
    "\n",
    "# Evaluate the model\n",
    "mse_rf = mean_squared_error(y_test, y_pred_rf)\n",
    "r2_rf = r2_score(y_test, y_pred_rf)\n",
    "\n",
    "# Print the evaluation metrics\n",
    "print(\"Mean Squared Error (Random Forest):\", mse_rf)\n",
    "print(\"R-squared (Random Forest):\", r2_rf)\n"
   ]
  },
  {
   "cell_type": "code",
   "execution_count": 45,
   "id": "057836f7",
   "metadata": {},
   "outputs": [
    {
     "name": "stdout",
     "output_type": "stream",
     "text": [
      "Mean Squared Error (Random Forest - Tuned): 0.5542054522456097\n",
      "R-squared (Random Forest - Tuned): 0.4369686272678277\n"
     ]
    }
   ],
   "source": [
    "from sklearn.metrics import mean_squared_error, r2_score\n",
    "\n",
    "# Assuming y_test contains the actual target values for the test set\n",
    "# and y_pred_rf_tuned contains the predicted values by the tuned Random Forest model\n",
    "\n",
    "# Evaluate the tuned model on the test data\n",
    "mse_rf_tuned = mean_squared_error(y_test, y_pred_rf_tuned)\n",
    "r2_rf_tuned = r2_score(y_test, y_pred_rf_tuned)\n",
    "\n",
    "# Print the evaluation metrics for the tuned model\n",
    "print(\"Mean Squared Error (Random Forest - Tuned):\", mse_rf_tuned)\n",
    "print(\"R-squared (Random Forest - Tuned):\", r2_rf_tuned)\n"
   ]
  },
  {
   "cell_type": "code",
   "execution_count": 46,
   "id": "023e82a8",
   "metadata": {},
   "outputs": [],
   "source": [
    "import pickle\n"
   ]
  },
  {
   "cell_type": "code",
   "execution_count": 47,
   "id": "66f78f7c",
   "metadata": {},
   "outputs": [],
   "source": [
    "with open('random_forest_tuned_model.pkl', 'wb') as file:\n",
    "    pickle.dump(grid_search, file)"
   ]
  },
  {
   "cell_type": "code",
   "execution_count": null,
   "id": "132ffabe",
   "metadata": {},
   "outputs": [],
   "source": []
  },
  {
   "cell_type": "code",
   "execution_count": null,
   "id": "104fb8fb",
   "metadata": {},
   "outputs": [],
   "source": []
  },
  {
   "cell_type": "code",
   "execution_count": null,
   "id": "c3c29090",
   "metadata": {},
   "outputs": [],
   "source": []
  },
  {
   "cell_type": "code",
   "execution_count": null,
   "id": "9635f99c",
   "metadata": {},
   "outputs": [],
   "source": []
  },
  {
   "cell_type": "code",
   "execution_count": null,
   "id": "bd15ff8d",
   "metadata": {},
   "outputs": [],
   "source": []
  },
  {
   "cell_type": "code",
   "execution_count": null,
   "id": "f8398876",
   "metadata": {},
   "outputs": [],
   "source": []
  },
  {
   "cell_type": "code",
   "execution_count": null,
   "id": "788b93aa",
   "metadata": {},
   "outputs": [],
   "source": []
  },
  {
   "cell_type": "code",
   "execution_count": null,
   "id": "499a7014",
   "metadata": {},
   "outputs": [],
   "source": []
  },
  {
   "cell_type": "code",
   "execution_count": null,
   "id": "b77fc950",
   "metadata": {},
   "outputs": [],
   "source": []
  },
  {
   "cell_type": "code",
   "execution_count": null,
   "id": "de43c7e9",
   "metadata": {},
   "outputs": [],
   "source": []
  },
  {
   "cell_type": "code",
   "execution_count": null,
   "id": "041221c1",
   "metadata": {},
   "outputs": [],
   "source": []
  },
  {
   "cell_type": "code",
   "execution_count": null,
   "id": "e86e84f1",
   "metadata": {},
   "outputs": [],
   "source": []
  },
  {
   "cell_type": "code",
   "execution_count": null,
   "id": "ddd9c0d0",
   "metadata": {},
   "outputs": [],
   "source": []
  },
  {
   "cell_type": "code",
   "execution_count": null,
   "id": "bcf97e5c",
   "metadata": {},
   "outputs": [],
   "source": []
  },
  {
   "cell_type": "code",
   "execution_count": null,
   "id": "5eff0dec",
   "metadata": {},
   "outputs": [],
   "source": []
  },
  {
   "cell_type": "code",
   "execution_count": null,
   "id": "088ec01a",
   "metadata": {},
   "outputs": [],
   "source": []
  },
  {
   "cell_type": "code",
   "execution_count": null,
   "id": "648ee3af",
   "metadata": {},
   "outputs": [],
   "source": []
  },
  {
   "cell_type": "code",
   "execution_count": null,
   "id": "0cb296d2",
   "metadata": {},
   "outputs": [],
   "source": []
  }
 ],
 "metadata": {
  "kernelspec": {
   "display_name": "Python 3 (ipykernel)",
   "language": "python",
   "name": "python3"
  },
  "language_info": {
   "codemirror_mode": {
    "name": "ipython",
    "version": 3
   },
   "file_extension": ".py",
   "mimetype": "text/x-python",
   "name": "python",
   "nbconvert_exporter": "python",
   "pygments_lexer": "ipython3",
   "version": "3.11.3"
  }
 },
 "nbformat": 4,
 "nbformat_minor": 5
}
